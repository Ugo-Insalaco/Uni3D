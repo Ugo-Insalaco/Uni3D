{
  "cells": [
    {
      "cell_type": "markdown",
      "source": [
        "# 1. Package  and dataset setup"
      ],
      "metadata": {
        "id": "9JnwS1PzkTMC"
      }
    },
    {
      "cell_type": "code",
      "execution_count": null,
      "metadata": {
        "id": "JLCLQtZLRUYc"
      },
      "outputs": [],
      "source": [
        "%%capture\n",
        "!git clone https://github.com/Ugo-Insalaco/Uni3D.git\n",
        "!pip install -r Uni3D/requirements.txt"
      ]
    },
    {
      "cell_type": "code",
      "source": [
        "%%capture\n",
        "!mv Uni3D/pointnet2_ops_lib/ pointnet2_ops_lib\n",
        "!pip install pointnet2_ops_lib/. --verbose"
      ],
      "metadata": {
        "id": "aGJVmpCOj9MD"
      },
      "execution_count": null,
      "outputs": []
    },
    {
      "cell_type": "code",
      "execution_count": null,
      "metadata": {
        "id": "QPqHogMqSErW"
      },
      "outputs": [],
      "source": [
        "%%capture\n",
        "!wget https://huggingface.co/BAAI/Uni3D/resolve/main/modelzoo/uni3d-g-no-lvis/model.pt uni3dg.pt\n",
        "!mv model.pt Uni3D/models/uni3dg.pt"
      ]
    },
    {
      "cell_type": "code",
      "execution_count": null,
      "metadata": {
        "id": "QupDicYNTRH4"
      },
      "outputs": [],
      "source": [
        "%%capture\n",
        "!wget https://huggingface.co/BAAI/Uni3D/resolve/main/data/test_datasets.zip\n",
        "!unzip /content/test_datasets.zip\n",
        "!mv uni3d_data Uni3D/data/test_datasets"
      ]
    },
    {
      "cell_type": "code",
      "execution_count": null,
      "metadata": {
        "id": "nLT-MKGaUJG6"
      },
      "outputs": [],
      "source": [
        "%%capture\n",
        "!wget https://huggingface.co/timm/eva02_enormous_patch14_plus_clip_224.laion2b_s9b_b144k/resolve/main/open_clip_pytorch_model.bin\n",
        "!mv open_clip_pytorch_model.bin Uni3D/models/clip.bin"
      ]
    },
    {
      "cell_type": "markdown",
      "source": [
        "# 2. Inference"
      ],
      "metadata": {
        "id": "kKaPg2WSkZjv"
      }
    },
    {
      "cell_type": "code",
      "execution_count": null,
      "metadata": {
        "colab": {
          "base_uri": "https://localhost:8080/"
        },
        "id": "2xRSnh9pbAH_",
        "outputId": "7147a576-1023-452d-c665-b2262f1bdc3a"
      },
      "outputs": [
        {
          "output_type": "stream",
          "name": "stdout",
          "text": [
            "[Errno 2] No such file or directory: 'Uni3D'\n",
            "/content/Uni3D\n",
            "Please install lastest apex to use FusedAdam and FusedLAMB\n",
            "2023-12-30,19:21:33 | INFO | Running with a single process. Device cuda:0.\n",
            "2023-12-30,19:21:33 | INFO | => create clip teacher...\n",
            "2023-12-30,19:21:33 | INFO | => creating model: create_uni3d\n",
            "2023-12-30,19:21:53 | INFO | => evaluating...\n",
            "2023-12-30,19:21:54 | INFO | loaded checkpoint models/uni3dg.pt\n",
            "2023-12-30 19:21:58,769 - ModelNet - INFO - The size of test data is 2468\n",
            "/usr/local/lib/python3.10/dist-packages/torch/utils/data/dataloader.py:557: UserWarning: This DataLoader will create 4 worker processes in total. Our suggested max number of worker in current system is 2, which is smaller than what this DataLoader is going to create. Please be aware that excessive worker creation might get DataLoader running slow or even freeze, lower the worker number to avoid potential slowness/freeze if necessary.\n",
            "  warnings.warn(_create_warning_msg(\n",
            "2023-12-30 19:21:58,771 - Objaverse - INFO - [DATASET] sample out 10000 points\n",
            "2023-12-30 19:21:58,771 - Objaverse - INFO - [DATASET] Open file ./data/test_dataids.txt\n",
            "2023-12-30 19:21:58,805 - Objaverse - INFO - [DATASET] 9997 instances were loaded\n",
            "2023-12-30 19:21:58,866 - ScanObjNN - INFO - The size of Scanobjnn data is 2890\n",
            "Eval: 0/313(0.0%)\n",
            "Eval: 1/313(0.0%)\n",
            "Eval: 2/313(1.0%)\n",
            "Eval: 3/313(1.0%)\n",
            "Eval: 4/313(1.0%)\n",
            "Eval: 5/313(2.0%)\n",
            "Eval: 6/313(2.0%)\n",
            "Eval: 7/313(2.0%)\n",
            "Eval: 8/313(3.0%)\n",
            "Eval: 9/313(3.0%)\n",
            "Eval: 10/313(3.0%)\n",
            "Eval: 11/313(4.0%)\n",
            "Eval: 12/313(4.0%)\n",
            "Eval: 13/313(4.0%)\n",
            "Eval: 14/313(4.0%)\n",
            "Eval: 15/313(5.0%)\n",
            "Eval: 16/313(5.0%)\n",
            "Eval: 17/313(5.0%)\n",
            "Eval: 18/313(6.0%)\n",
            "Eval: 19/313(6.0%)\n",
            "Eval: 20/313(6.0%)\n",
            "Eval: 21/313(7.0%)\n",
            "Eval: 22/313(7.0%)\n",
            "Eval: 23/313(7.0%)\n",
            "Eval: 24/313(8.0%)\n",
            "Eval: 25/313(8.0%)\n",
            "\n",
            "Qhull messages at ~Qhull()\n",
            "QH7089 qhull precision warning: The initial hull is narrow.  Is the input lower\n",
            "dimensional (e.g., a square in 3-d instead of a cube)?  Cosine of the minimum\n",
            "angle is 1.0000000000000000.  If so, Qhull may produce a wide facet.\n",
            "Options 'Qs' (search all points), 'Qbb' (scale last coordinate), or\n",
            "'QbB' (scale to unit box) may remove this warning.\n",
            "See 'Limitations' in qh-impre.htm.  Use 'Pp' to skip this warning.\n",
            "Eval: 26/313(8.0%)\n",
            "Eval: 27/313(9.0%)\n",
            "Eval: 28/313(9.0%)\n",
            "Eval: 29/313(9.0%)\n",
            "Eval: 30/313(10.0%)\n",
            "Eval: 31/313(10.0%)\n",
            "Eval: 32/313(10.0%)\n",
            "Eval: 33/313(11.0%)\n",
            "Eval: 34/313(11.0%)\n",
            "Eval: 35/313(11.0%)\n",
            "Eval: 36/313(12.0%)\n",
            "Eval: 37/313(12.0%)\n",
            "Eval: 38/313(12.0%)\n",
            "Eval: 39/313(12.0%)\n",
            "Eval: 40/313(13.0%)\n",
            "Eval: 41/313(13.0%)\n",
            "Eval: 42/313(13.0%)\n",
            "Eval: 43/313(14.0%)\n",
            "Eval: 44/313(14.0%)\n",
            "Eval: 45/313(14.0%)\n",
            "Eval: 46/313(15.0%)\n",
            "Eval: 47/313(15.0%)\n",
            "Eval: 48/313(15.0%)\n",
            "Eval: 49/313(16.0%)\n",
            "Eval: 50/313(16.0%)\n",
            "Eval: 51/313(16.0%)\n",
            "Eval: 52/313(17.0%)\n",
            "Eval: 53/313(17.0%)\n",
            "Eval: 54/313(17.0%)\n",
            "Eval: 55/313(18.0%)\n",
            "Eval: 56/313(18.0%)\n",
            "Eval: 57/313(18.0%)\n",
            "Eval: 58/313(19.0%)\n",
            "Eval: 59/313(19.0%)\n",
            "Eval: 60/313(19.0%)\n",
            "Eval: 61/313(19.0%)\n",
            "Eval: 62/313(20.0%)\n",
            "Eval: 63/313(20.0%)\n",
            "Eval: 64/313(20.0%)\n",
            "Eval: 65/313(21.0%)\n",
            "Eval: 66/313(21.0%)\n",
            "Eval: 67/313(21.0%)\n",
            "Eval: 68/313(22.0%)\n",
            "Eval: 69/313(22.0%)\n",
            "Eval: 70/313(22.0%)\n",
            "Eval: 71/313(23.0%)\n",
            "Eval: 72/313(23.0%)\n",
            "Eval: 73/313(23.0%)\n",
            "Eval: 74/313(24.0%)\n",
            "Eval: 75/313(24.0%)\n",
            "Eval: 76/313(24.0%)\n",
            "Eval: 77/313(25.0%)\n",
            "Eval: 78/313(25.0%)\n",
            "Eval: 79/313(25.0%)\n",
            "Eval: 80/313(26.0%)\n",
            "Eval: 81/313(26.0%)\n",
            "Eval: 82/313(26.0%)\n",
            "Eval: 83/313(27.0%)\n",
            "Eval: 84/313(27.0%)\n",
            "Eval: 85/313(27.0%)\n",
            "Eval: 86/313(27.0%)\n",
            "Eval: 87/313(28.0%)\n",
            "Eval: 88/313(28.0%)\n",
            "Eval: 89/313(28.0%)\n",
            "Eval: 90/313(29.0%)\n",
            "\n",
            "Qhull messages at ~Qhull()\n",
            "QH7089 qhull precision warning: The initial hull is narrow.  Is the input lower\n",
            "dimensional (e.g., a square in 3-d instead of a cube)?  Cosine of the minimum\n",
            "angle is 0.9999999999999998.  If so, Qhull may produce a wide facet.\n",
            "Options 'Qs' (search all points), 'Qbb' (scale last coordinate), or\n",
            "'QbB' (scale to unit box) may remove this warning.\n",
            "See 'Limitations' in qh-impre.htm.  Use 'Pp' to skip this warning.\n",
            "Eval: 91/313(29.0%)\n",
            "Eval: 92/313(29.0%)\n",
            "Eval: 93/313(30.0%)\n",
            "Eval: 94/313(30.0%)\n",
            "Eval: 95/313(30.0%)\n",
            "Eval: 96/313(31.0%)\n",
            "Eval: 97/313(31.0%)\n",
            "Eval: 98/313(31.0%)\n",
            "Eval: 99/313(32.0%)\n",
            "Eval: 100/313(32.0%)\n",
            "Eval: 101/313(32.0%)\n",
            "Eval: 102/313(33.0%)\n",
            "Eval: 103/313(33.0%)\n",
            "Eval: 104/313(33.0%)\n",
            "Eval: 105/313(34.0%)\n",
            "Eval: 106/313(34.0%)\n",
            "Eval: 107/313(34.0%)\n",
            "Eval: 108/313(35.0%)\n",
            "Eval: 109/313(35.0%)\n",
            "Eval: 110/313(35.0%)\n",
            "Eval: 111/313(35.0%)\n",
            "Eval: 112/313(36.0%)\n",
            "Eval: 113/313(36.0%)\n",
            "Eval: 114/313(36.0%)\n",
            "Eval: 115/313(37.0%)\n",
            "Eval: 116/313(37.0%)\n",
            "Eval: 117/313(37.0%)\n",
            "Eval: 118/313(38.0%)\n",
            "Eval: 119/313(38.0%)\n",
            "Eval: 120/313(38.0%)\n",
            "Eval: 121/313(39.0%)\n",
            "Eval: 122/313(39.0%)\n",
            "Eval: 123/313(39.0%)\n",
            "Eval: 124/313(40.0%)\n",
            "Eval: 125/313(40.0%)\n",
            "Eval: 126/313(40.0%)\n",
            "Eval: 127/313(41.0%)\n",
            "Eval: 128/313(41.0%)\n",
            "Eval: 129/313(41.0%)\n",
            "Eval: 130/313(42.0%)\n",
            "Eval: 131/313(42.0%)\n",
            "Eval: 132/313(42.0%)\n",
            "Eval: 133/313(42.0%)\n",
            "Eval: 134/313(43.0%)\n",
            "Eval: 135/313(43.0%)\n",
            "Eval: 136/313(43.0%)\n",
            "Eval: 137/313(44.0%)\n",
            "Eval: 138/313(44.0%)\n",
            "Eval: 139/313(44.0%)\n",
            "Eval: 140/313(45.0%)\n",
            "Eval: 141/313(45.0%)\n",
            "Eval: 142/313(45.0%)\n",
            "Eval: 143/313(46.0%)\n",
            "Eval: 144/313(46.0%)\n",
            "Eval: 145/313(46.0%)\n",
            "Eval: 146/313(47.0%)\n",
            "Eval: 147/313(47.0%)\n",
            "Eval: 148/313(47.0%)\n",
            "Eval: 149/313(48.0%)\n",
            "Eval: 150/313(48.0%)\n",
            "\n",
            "Qhull messages at ~Qhull()\n",
            "QH7089 qhull precision warning: The initial hull is narrow.  Is the input lower\n",
            "dimensional (e.g., a square in 3-d instead of a cube)?  Cosine of the minimum\n",
            "angle is 1.0000000000000000.  If so, Qhull may produce a wide facet.\n",
            "Options 'Qs' (search all points), 'Qbb' (scale last coordinate), or\n",
            "'QbB' (scale to unit box) may remove this warning.\n",
            "See 'Limitations' in qh-impre.htm.  Use 'Pp' to skip this warning.\n",
            "Eval: 151/313(48.0%)\n",
            "Eval: 152/313(49.0%)\n",
            "Eval: 153/313(49.0%)\n",
            "Eval: 154/313(49.0%)\n",
            "Eval: 155/313(50.0%)\n",
            "Eval: 156/313(50.0%)\n",
            "Eval: 157/313(50.0%)\n",
            "Eval: 158/313(50.0%)\n",
            "Eval: 159/313(51.0%)\n",
            "Eval: 160/313(51.0%)\n",
            "Eval: 161/313(51.0%)\n",
            "Eval: 162/313(52.0%)\n",
            "Eval: 163/313(52.0%)\n",
            "Eval: 164/313(52.0%)\n",
            "Eval: 165/313(53.0%)\n",
            "Eval: 166/313(53.0%)\n",
            "Eval: 167/313(53.0%)\n",
            "Eval: 168/313(54.0%)\n",
            "Eval: 169/313(54.0%)\n",
            "Eval: 170/313(54.0%)\n",
            "Eval: 171/313(55.0%)\n",
            "Eval: 172/313(55.0%)\n",
            "Eval: 173/313(55.0%)\n",
            "Eval: 174/313(56.0%)\n",
            "Eval: 175/313(56.0%)\n",
            "Eval: 176/313(56.0%)\n",
            "Eval: 177/313(57.0%)\n",
            "Eval: 178/313(57.0%)\n",
            "Eval: 179/313(57.0%)\n",
            "Eval: 180/313(58.0%)\n",
            "Eval: 181/313(58.0%)\n",
            "Eval: 182/313(58.0%)\n",
            "Eval: 183/313(58.0%)\n",
            "Eval: 184/313(59.0%)\n",
            "Eval: 185/313(59.0%)\n",
            "Eval: 186/313(59.0%)\n",
            "Eval: 187/313(60.0%)\n",
            "Eval: 188/313(60.0%)\n",
            "Eval: 189/313(60.0%)\n",
            "Eval: 190/313(61.0%)\n",
            "Eval: 191/313(61.0%)\n",
            "Eval: 192/313(61.0%)\n",
            "Eval: 193/313(62.0%)\n",
            "Eval: 194/313(62.0%)\n",
            "\n",
            "Qhull messages at ~Qhull()\n",
            "QH7089 qhull precision warning: The initial hull is narrow.  Is the input lower\n",
            "dimensional (e.g., a square in 3-d instead of a cube)?  Cosine of the minimum\n",
            "angle is 1.0000000000000000.  If so, Qhull may produce a wide facet.\n",
            "Options 'Qs' (search all points), 'Qbb' (scale last coordinate), or\n",
            "'QbB' (scale to unit box) may remove this warning.\n",
            "See 'Limitations' in qh-impre.htm.  Use 'Pp' to skip this warning.\n",
            "Eval: 195/313(62.0%)\n",
            "Eval: 196/313(63.0%)\n",
            "Eval: 197/313(63.0%)\n",
            "Eval: 198/313(63.0%)\n",
            "Eval: 199/313(64.0%)\n",
            "Eval: 200/313(64.0%)\n",
            "Eval: 201/313(64.0%)\n",
            "Eval: 202/313(65.0%)\n",
            "Eval: 203/313(65.0%)\n",
            "\n",
            "Qhull messages at ~Qhull()\n",
            "QH7089 qhull precision warning: The initial hull is narrow.  Is the input lower\n",
            "dimensional (e.g., a square in 3-d instead of a cube)?  Cosine of the minimum\n",
            "angle is 1.0000000000000000.  If so, Qhull may produce a wide facet.\n",
            "Options 'Qs' (search all points), 'Qbb' (scale last coordinate), or\n",
            "'QbB' (scale to unit box) may remove this warning.\n",
            "See 'Limitations' in qh-impre.htm.  Use 'Pp' to skip this warning.\n",
            "Eval: 204/313(65.0%)\n",
            "Eval: 205/313(65.0%)\n",
            "Eval: 206/313(66.0%)\n",
            "Eval: 207/313(66.0%)\n",
            "Eval: 208/313(66.0%)\n",
            "Eval: 209/313(67.0%)\n",
            "Eval: 210/313(67.0%)\n",
            "Eval: 211/313(67.0%)\n",
            "Eval: 212/313(68.0%)\n",
            "Eval: 213/313(68.0%)\n",
            "Eval: 214/313(68.0%)\n",
            "Eval: 215/313(69.0%)\n",
            "Eval: 216/313(69.0%)\n",
            "Eval: 217/313(69.0%)\n",
            "Eval: 218/313(70.0%)\n",
            "Eval: 219/313(70.0%)\n",
            "Eval: 220/313(70.0%)\n",
            "Eval: 221/313(71.0%)\n",
            "Eval: 222/313(71.0%)\n",
            "Eval: 223/313(71.0%)\n",
            "Eval: 224/313(72.0%)\n",
            "Eval: 225/313(72.0%)\n",
            "Eval: 226/313(72.0%)\n",
            "Eval: 227/313(73.0%)\n",
            "Eval: 228/313(73.0%)\n",
            "Eval: 229/313(73.0%)\n",
            "Eval: 230/313(73.0%)\n",
            "Eval: 231/313(74.0%)\n",
            "Eval: 232/313(74.0%)\n",
            "\n",
            "Qhull messages at ~Qhull()\n",
            "QH7089 qhull precision warning: The initial hull is narrow.  Is the input lower\n",
            "dimensional (e.g., a square in 3-d instead of a cube)?  Cosine of the minimum\n",
            "angle is 1.0000000000000000.  If so, Qhull may produce a wide facet.\n",
            "Options 'Qs' (search all points), 'Qbb' (scale last coordinate), or\n",
            "'QbB' (scale to unit box) may remove this warning.\n",
            "See 'Limitations' in qh-impre.htm.  Use 'Pp' to skip this warning.\n",
            "Eval: 233/313(74.0%)\n",
            "Eval: 234/313(75.0%)\n",
            "Eval: 235/313(75.0%)\n",
            "Eval: 236/313(75.0%)\n",
            "Eval: 237/313(76.0%)\n",
            "Eval: 238/313(76.0%)\n",
            "Eval: 239/313(76.0%)\n",
            "Eval: 240/313(77.0%)\n",
            "Eval: 241/313(77.0%)\n",
            "Eval: 242/313(77.0%)\n",
            "Eval: 243/313(78.0%)\n",
            "Eval: 244/313(78.0%)\n",
            "Eval: 245/313(78.0%)\n",
            "Eval: 246/313(79.0%)\n",
            "Eval: 247/313(79.0%)\n",
            "Eval: 248/313(79.0%)\n",
            "Eval: 249/313(80.0%)\n",
            "Eval: 250/313(80.0%)\n",
            "Eval: 251/313(80.0%)\n",
            "Eval: 252/313(81.0%)\n",
            "\n",
            "Qhull messages at ~Qhull()\n",
            "QH7089 qhull precision warning: The initial hull is narrow.  Is the input lower\n",
            "dimensional (e.g., a square in 3-d instead of a cube)?  Cosine of the minimum\n",
            "angle is 1.0000000000000000.  If so, Qhull may produce a wide facet.\n",
            "Options 'Qs' (search all points), 'Qbb' (scale last coordinate), or\n",
            "'QbB' (scale to unit box) may remove this warning.\n",
            "See 'Limitations' in qh-impre.htm.  Use 'Pp' to skip this warning.\n",
            "Eval: 253/313(81.0%)\n",
            "Eval: 254/313(81.0%)\n",
            "Eval: 255/313(81.0%)\n",
            "Eval: 256/313(82.0%)\n",
            "Eval: 257/313(82.0%)\n",
            "Eval: 258/313(82.0%)\n",
            "Eval: 259/313(83.0%)\n",
            "Eval: 260/313(83.0%)\n",
            "Eval: 261/313(83.0%)\n",
            "Eval: 262/313(84.0%)\n",
            "Eval: 263/313(84.0%)\n",
            "Eval: 264/313(84.0%)\n",
            "Eval: 265/313(85.0%)\n",
            "Eval: 266/313(85.0%)\n",
            "Eval: 267/313(85.0%)\n",
            "Eval: 268/313(86.0%)\n",
            "Eval: 269/313(86.0%)\n",
            "Eval: 270/313(86.0%)\n",
            "Eval: 271/313(87.0%)\n",
            "Eval: 272/313(87.0%)\n",
            "Eval: 273/313(87.0%)\n",
            "Eval: 274/313(88.0%)\n",
            "Eval: 275/313(88.0%)\n",
            "Eval: 276/313(88.0%)\n",
            "Eval: 277/313(88.0%)\n",
            "Eval: 278/313(89.0%)\n",
            "Eval: 279/313(89.0%)\n",
            "Eval: 280/313(89.0%)\n",
            "Eval: 281/313(90.0%)\n",
            "Eval: 282/313(90.0%)\n",
            "Eval: 283/313(90.0%)\n",
            "Eval: 284/313(91.0%)\n",
            "Eval: 285/313(91.0%)\n",
            "Eval: 286/313(91.0%)\n",
            "Eval: 287/313(92.0%)\n",
            "Eval: 288/313(92.0%)\n",
            "Eval: 289/313(92.0%)\n",
            "Eval: 290/313(93.0%)\n",
            "Eval: 291/313(93.0%)\n",
            "Eval: 292/313(93.0%)\n",
            "Eval: 293/313(94.0%)\n",
            "Eval: 294/313(94.0%)\n",
            "Eval: 295/313(94.0%)\n",
            "Eval: 296/313(95.0%)\n",
            "Eval: 297/313(95.0%)\n",
            "Eval: 298/313(95.0%)\n",
            "Eval: 299/313(96.0%)\n",
            "Eval: 300/313(96.0%)\n",
            "Eval: 301/313(96.0%)\n",
            "Eval: 302/313(96.0%)\n",
            "Eval: 303/313(97.0%)\n",
            "Eval: 304/313(97.0%)\n",
            "Eval: 305/313(97.0%)\n",
            "Eval: 306/313(98.0%)\n",
            "Eval: 307/313(98.0%)\n",
            "Eval: 308/313(98.0%)\n",
            "Eval: 309/313(99.0%)\n",
            "Eval: 310/313(99.0%)\n",
            "Eval: 311/313(99.0%)\n",
            "Eval: 312/313(100.0%)\n",
            "[2023-12-30 20:40:08,912] torch._dynamo.utils: [INFO] TorchDynamo compilation metrics:\n",
            "[2023-12-30 20:40:08,912] torch._dynamo.utils: [INFO] Function    Runtimes (s)\n",
            "[2023-12-30 20:40:08,912] torch._dynamo.utils: [INFO] ----------  --------------\n"
          ]
        }
      ],
      "source": [
        "%cd Uni3D\n",
        "!bash scripts/inference.sh giant"
      ]
    },
    {
      "cell_type": "markdown",
      "source": [
        "# 3. Download results"
      ],
      "metadata": {
        "id": "5ML6YiFFkhMB"
      }
    },
    {
      "cell_type": "code",
      "execution_count": null,
      "metadata": {
        "id": "mBTTcQh1vR26"
      },
      "outputs": [],
      "source": [
        "import numpy as np\n",
        "from collections import OrderedDict\n",
        "import os"
      ]
    },
    {
      "cell_type": "code",
      "execution_count": null,
      "metadata": {
        "colab": {
          "base_uri": "https://localhost:8080/",
          "height": 17
        },
        "id": "aoiZKrsN2sn3",
        "outputId": "a10c2990-3b48-4b72-ef1e-84526e49f249"
      },
      "outputs": [
        {
          "output_type": "display_data",
          "data": {
            "text/plain": [
              "<IPython.core.display.Javascript object>"
            ],
            "application/javascript": [
              "\n",
              "    async function download(id, filename, size) {\n",
              "      if (!google.colab.kernel.accessAllowed) {\n",
              "        return;\n",
              "      }\n",
              "      const div = document.createElement('div');\n",
              "      const label = document.createElement('label');\n",
              "      label.textContent = `Downloading \"${filename}\": `;\n",
              "      div.appendChild(label);\n",
              "      const progress = document.createElement('progress');\n",
              "      progress.max = size;\n",
              "      div.appendChild(progress);\n",
              "      document.body.appendChild(div);\n",
              "\n",
              "      const buffers = [];\n",
              "      let downloaded = 0;\n",
              "\n",
              "      const channel = await google.colab.kernel.comms.open(id);\n",
              "      // Send a message to notify the kernel that we're ready.\n",
              "      channel.send({})\n",
              "\n",
              "      for await (const message of channel.messages) {\n",
              "        // Send a message to notify the kernel that we're ready.\n",
              "        channel.send({})\n",
              "        if (message.buffers) {\n",
              "          for (const buffer of message.buffers) {\n",
              "            buffers.push(buffer);\n",
              "            downloaded += buffer.byteLength;\n",
              "            progress.value = downloaded;\n",
              "          }\n",
              "        }\n",
              "      }\n",
              "      const blob = new Blob(buffers, {type: 'application/binary'});\n",
              "      const a = document.createElement('a');\n",
              "      a.href = window.URL.createObjectURL(blob);\n",
              "      a.download = filename;\n",
              "      div.appendChild(a);\n",
              "      a.click();\n",
              "      div.remove();\n",
              "    }\n",
              "  "
            ]
          },
          "metadata": {}
        },
        {
          "output_type": "display_data",
          "data": {
            "text/plain": [
              "<IPython.core.display.Javascript object>"
            ],
            "application/javascript": [
              "download(\"download_327e561a-8877-494c-a90a-12f2de2e623b\", \"results_top_1.npy\", 9372)"
            ]
          },
          "metadata": {}
        },
        {
          "output_type": "display_data",
          "data": {
            "text/plain": [
              "<IPython.core.display.Javascript object>"
            ],
            "application/javascript": [
              "\n",
              "    async function download(id, filename, size) {\n",
              "      if (!google.colab.kernel.accessAllowed) {\n",
              "        return;\n",
              "      }\n",
              "      const div = document.createElement('div');\n",
              "      const label = document.createElement('label');\n",
              "      label.textContent = `Downloading \"${filename}\": `;\n",
              "      div.appendChild(label);\n",
              "      const progress = document.createElement('progress');\n",
              "      progress.max = size;\n",
              "      div.appendChild(progress);\n",
              "      document.body.appendChild(div);\n",
              "\n",
              "      const buffers = [];\n",
              "      let downloaded = 0;\n",
              "\n",
              "      const channel = await google.colab.kernel.comms.open(id);\n",
              "      // Send a message to notify the kernel that we're ready.\n",
              "      channel.send({})\n",
              "\n",
              "      for await (const message of channel.messages) {\n",
              "        // Send a message to notify the kernel that we're ready.\n",
              "        channel.send({})\n",
              "        if (message.buffers) {\n",
              "          for (const buffer of message.buffers) {\n",
              "            buffers.push(buffer);\n",
              "            downloaded += buffer.byteLength;\n",
              "            progress.value = downloaded;\n",
              "          }\n",
              "        }\n",
              "      }\n",
              "      const blob = new Blob(buffers, {type: 'application/binary'});\n",
              "      const a = document.createElement('a');\n",
              "      a.href = window.URL.createObjectURL(blob);\n",
              "      a.download = filename;\n",
              "      div.appendChild(a);\n",
              "      a.click();\n",
              "      div.remove();\n",
              "    }\n",
              "  "
            ]
          },
          "metadata": {}
        },
        {
          "output_type": "display_data",
          "data": {
            "text/plain": [
              "<IPython.core.display.Javascript object>"
            ],
            "application/javascript": [
              "download(\"download_57cef033-90ac-4d4c-a4f2-0c9ba77383cd\", \"results_top_3.npy\", 13369)"
            ]
          },
          "metadata": {}
        },
        {
          "output_type": "display_data",
          "data": {
            "text/plain": [
              "<IPython.core.display.Javascript object>"
            ],
            "application/javascript": [
              "\n",
              "    async function download(id, filename, size) {\n",
              "      if (!google.colab.kernel.accessAllowed) {\n",
              "        return;\n",
              "      }\n",
              "      const div = document.createElement('div');\n",
              "      const label = document.createElement('label');\n",
              "      label.textContent = `Downloading \"${filename}\": `;\n",
              "      div.appendChild(label);\n",
              "      const progress = document.createElement('progress');\n",
              "      progress.max = size;\n",
              "      div.appendChild(progress);\n",
              "      document.body.appendChild(div);\n",
              "\n",
              "      const buffers = [];\n",
              "      let downloaded = 0;\n",
              "\n",
              "      const channel = await google.colab.kernel.comms.open(id);\n",
              "      // Send a message to notify the kernel that we're ready.\n",
              "      channel.send({})\n",
              "\n",
              "      for await (const message of channel.messages) {\n",
              "        // Send a message to notify the kernel that we're ready.\n",
              "        channel.send({})\n",
              "        if (message.buffers) {\n",
              "          for (const buffer of message.buffers) {\n",
              "            buffers.push(buffer);\n",
              "            downloaded += buffer.byteLength;\n",
              "            progress.value = downloaded;\n",
              "          }\n",
              "        }\n",
              "      }\n",
              "      const blob = new Blob(buffers, {type: 'application/binary'});\n",
              "      const a = document.createElement('a');\n",
              "      a.href = window.URL.createObjectURL(blob);\n",
              "      a.download = filename;\n",
              "      div.appendChild(a);\n",
              "      a.click();\n",
              "      div.remove();\n",
              "    }\n",
              "  "
            ]
          },
          "metadata": {}
        },
        {
          "output_type": "display_data",
          "data": {
            "text/plain": [
              "<IPython.core.display.Javascript object>"
            ],
            "application/javascript": [
              "download(\"download_48efbf71-ff6a-4b66-b2f7-5b218f3a9bb5\", \"results_top_5.npy\", 15309)"
            ]
          },
          "metadata": {}
        },
        {
          "output_type": "display_data",
          "data": {
            "text/plain": [
              "<IPython.core.display.Javascript object>"
            ],
            "application/javascript": [
              "\n",
              "    async function download(id, filename, size) {\n",
              "      if (!google.colab.kernel.accessAllowed) {\n",
              "        return;\n",
              "      }\n",
              "      const div = document.createElement('div');\n",
              "      const label = document.createElement('label');\n",
              "      label.textContent = `Downloading \"${filename}\": `;\n",
              "      div.appendChild(label);\n",
              "      const progress = document.createElement('progress');\n",
              "      progress.max = size;\n",
              "      div.appendChild(progress);\n",
              "      document.body.appendChild(div);\n",
              "\n",
              "      const buffers = [];\n",
              "      let downloaded = 0;\n",
              "\n",
              "      const channel = await google.colab.kernel.comms.open(id);\n",
              "      // Send a message to notify the kernel that we're ready.\n",
              "      channel.send({})\n",
              "\n",
              "      for await (const message of channel.messages) {\n",
              "        // Send a message to notify the kernel that we're ready.\n",
              "        channel.send({})\n",
              "        if (message.buffers) {\n",
              "          for (const buffer of message.buffers) {\n",
              "            buffers.push(buffer);\n",
              "            downloaded += buffer.byteLength;\n",
              "            progress.value = downloaded;\n",
              "          }\n",
              "        }\n",
              "      }\n",
              "      const blob = new Blob(buffers, {type: 'application/binary'});\n",
              "      const a = document.createElement('a');\n",
              "      a.href = window.URL.createObjectURL(blob);\n",
              "      a.download = filename;\n",
              "      div.appendChild(a);\n",
              "      a.click();\n",
              "      div.remove();\n",
              "    }\n",
              "  "
            ]
          },
          "metadata": {}
        },
        {
          "output_type": "display_data",
          "data": {
            "text/plain": [
              "<IPython.core.display.Javascript object>"
            ],
            "application/javascript": [
              "download(\"download_aff954ff-d85d-417a-9cc4-fe821059dfaf\", \"per_class_stats.npy\", 23139)"
            ]
          },
          "metadata": {}
        }
      ],
      "source": [
        "from google.colab import files\n",
        "files.download('results/partial points/results_top_1.npy')\n",
        "files.download('results/partial points/results_top_3.npy')\n",
        "files.download('results/partial points/results_top_5.npy')\n",
        "files.download('results/partial points/per_class_stats.npy')\n",
        "\n"
      ]
    },
    {
      "cell_type": "markdown",
      "source": [
        "# Utils"
      ],
      "metadata": {
        "id": "D70Zacvgkj3Q"
      }
    },
    {
      "cell_type": "code",
      "source": [
        "!git pull -X theirs"
      ],
      "metadata": {
        "colab": {
          "base_uri": "https://localhost:8080/"
        },
        "id": "I-YFdc2mEkfB",
        "outputId": "6942c472-1f0c-47e5-81a6-6f0abb865a02"
      },
      "execution_count": null,
      "outputs": [
        {
          "output_type": "stream",
          "name": "stdout",
          "text": [
            "Updating fd0d14e..7d9c86f\n",
            "Fast-forward\n",
            " utils/utils.py | 9 \u001b[32m++++++\u001b[m\u001b[31m---\u001b[m\n",
            " 1 file changed, 6 insertions(+), 3 deletions(-)\n"
          ]
        }
      ]
    },
    {
      "cell_type": "code",
      "source": [
        "def find_model(id, path):\n",
        "  for d in os.listdir(path):\n",
        "    try:\n",
        "      if id+'.npy' in os.listdir(os.path.join(path, d)):\n",
        "        return d\n",
        "    except:\n",
        "      continue\n",
        "  return 'not found'\n",
        "\n",
        "path = \"uni3d_data/objaverse_lvis\"\n",
        "id = \"d2244b45ac76440f8391565a126af65d\"\n",
        "find_model(id, path)"
      ],
      "metadata": {
        "colab": {
          "base_uri": "https://localhost:8080/",
          "height": 36
        },
        "id": "J9iz_OLh8qNQ",
        "outputId": "76fc8b80-bc63-492e-a948-d2ededafb98b"
      },
      "execution_count": null,
      "outputs": [
        {
          "output_type": "execute_result",
          "data": {
            "text/plain": [
              "'000-089'"
            ],
            "application/vnd.google.colaboratory.intrinsic+json": {
              "type": "string"
            }
          },
          "metadata": {},
          "execution_count": 4
        }
      ]
    },
    {
      "cell_type": "code",
      "source": [],
      "metadata": {
        "id": "Ljcuu4ahidIw"
      },
      "execution_count": null,
      "outputs": []
    }
  ],
  "metadata": {
    "colab": {
      "provenance": [],
      "gpuType": "T4"
    },
    "kernelspec": {
      "display_name": "Python 3",
      "name": "python3"
    },
    "language_info": {
      "name": "python"
    },
    "accelerator": "GPU"
  },
  "nbformat": 4,
  "nbformat_minor": 0
}